{
 "cells": [
  {
   "cell_type": "code",
   "execution_count": 1,
   "id": "6bda4893",
   "metadata": {
    "_cell_guid": "b1076dfc-b9ad-4769-8c92-a6c4dae69d19",
    "_uuid": "8f2839f25d086af736a60e9eeb907d3b93b6e0e5",
    "execution": {
     "iopub.execute_input": "2023-05-03T10:07:55.837226Z",
     "iopub.status.busy": "2023-05-03T10:07:55.836772Z",
     "iopub.status.idle": "2023-05-03T10:08:06.809434Z",
     "shell.execute_reply": "2023-05-03T10:08:06.807703Z"
    },
    "papermill": {
     "duration": 10.987636,
     "end_time": "2023-05-03T10:08:06.812933",
     "exception": false,
     "start_time": "2023-05-03T10:07:55.825297",
     "status": "completed"
    },
    "tags": []
   },
   "outputs": [
    {
     "name": "stdout",
     "output_type": "stream",
     "text": [
      "/kaggle/input/toxicity/tfjs/default/1/group1-shard3of7\n",
      "/kaggle/input/toxicity/tfjs/default/1/group1-shard2of7\n",
      "/kaggle/input/toxicity/tfjs/default/1/group1-shard1of7\n",
      "/kaggle/input/toxicity/tfjs/default/1/group1-shard4of7\n",
      "/kaggle/input/toxicity/tfjs/default/1/model.json\n",
      "/kaggle/input/toxicity/tfjs/default/1/group1-shard5of7\n",
      "/kaggle/input/toxicity/tfjs/default/1/group1-shard6of7\n",
      "/kaggle/input/toxicity/tfjs/default/1/group1-shard7of7\n",
      "/kaggle/input/nlp-getting-started/sample_submission.csv\n",
      "/kaggle/input/nlp-getting-started/train.csv\n",
      "/kaggle/input/nlp-getting-started/test.csv\n"
     ]
    }
   ],
   "source": [
    "# This Python 3 environment comes with many helpful analytics libraries installed\n",
    "# It is defined by the kaggle/python Docker image: https://github.com/kaggle/docker-python\n",
    "# For example, here's several helpful packages to load\n",
    "\n",
    "import numpy as np # linear algebra\n",
    "import pandas as pd # data processing, CSV file I/O (e.g. pd.read_csv)\n",
    "import re\n",
    "import matplotlib.pyplot as plt\n",
    "import seaborn as sns\n",
    "from sklearn.model_selection import train_test_split\n",
    "from keras.preprocessing.text import Tokenizer\n",
    "from keras.preprocessing import sequence\n",
    "from keras.utils import to_categorical\n",
    "from sklearn.metrics import accuracy_score\n",
    "\n",
    "%matplotlib inline\n",
    "sns.set_style(\"whitegrid\")\n",
    "plt.style.use(\"fivethirtyeight\")\n",
    "\n",
    "\n",
    "# Input data files are available in the read-only \"../input/\" directory\n",
    "# For example, running this (by clicking run or pressing Shift+Enter) will list all files under the input directory\n",
    "\n",
    "import os\n",
    "for dirname, _, filenames in os.walk('/kaggle/input'):\n",
    "    for filename in filenames:\n",
    "        print(os.path.join(dirname, filename))\n",
    "\n",
    "# You can write up to 20GB to the current directory (/kaggle/working/) that gets preserved as output when you create a version using \"Save & Run All\" \n",
    "# You can also write temporary files to /kaggle/temp/, but they won't be saved outside of the current session"
   ]
  },
  {
   "cell_type": "markdown",
   "id": "9bf798e8",
   "metadata": {
    "papermill": {
     "duration": 0.008359,
     "end_time": "2023-05-03T10:08:06.830694",
     "exception": false,
     "start_time": "2023-05-03T10:08:06.822335",
     "status": "completed"
    },
    "tags": []
   },
   "source": [
    "## Reading Test and Training Data"
   ]
  },
  {
   "cell_type": "code",
   "execution_count": 2,
   "id": "07650743",
   "metadata": {
    "execution": {
     "iopub.execute_input": "2023-05-03T10:08:06.850529Z",
     "iopub.status.busy": "2023-05-03T10:08:06.849637Z",
     "iopub.status.idle": "2023-05-03T10:08:06.940788Z",
     "shell.execute_reply": "2023-05-03T10:08:06.939394Z"
    },
    "papermill": {
     "duration": 0.104573,
     "end_time": "2023-05-03T10:08:06.944019",
     "exception": false,
     "start_time": "2023-05-03T10:08:06.839446",
     "status": "completed"
    },
    "tags": []
   },
   "outputs": [],
   "source": [
    "train = pd.read_csv('/kaggle/input/nlp-getting-started/train.csv', encoding='latin-1')\n",
    "test = pd.read_csv('/kaggle/input/nlp-getting-started/test.csv')\n",
    "train.dropna(how = 'any', inplace = True, axis = 1)\n",
    "train = train.drop('id', axis = 1)"
   ]
  },
  {
   "cell_type": "code",
   "execution_count": 3,
   "id": "cfdfabc2",
   "metadata": {
    "execution": {
     "iopub.execute_input": "2023-05-03T10:08:06.963341Z",
     "iopub.status.busy": "2023-05-03T10:08:06.962856Z",
     "iopub.status.idle": "2023-05-03T10:08:06.988544Z",
     "shell.execute_reply": "2023-05-03T10:08:06.987081Z"
    },
    "papermill": {
     "duration": 0.038682,
     "end_time": "2023-05-03T10:08:06.991397",
     "exception": false,
     "start_time": "2023-05-03T10:08:06.952715",
     "status": "completed"
    },
    "tags": []
   },
   "outputs": [
    {
     "data": {
      "text/html": [
       "<div>\n",
       "<style scoped>\n",
       "    .dataframe tbody tr th:only-of-type {\n",
       "        vertical-align: middle;\n",
       "    }\n",
       "\n",
       "    .dataframe tbody tr th {\n",
       "        vertical-align: top;\n",
       "    }\n",
       "\n",
       "    .dataframe thead th {\n",
       "        text-align: right;\n",
       "    }\n",
       "</style>\n",
       "<table border=\"1\" class=\"dataframe\">\n",
       "  <thead>\n",
       "    <tr style=\"text-align: right;\">\n",
       "      <th></th>\n",
       "      <th>text</th>\n",
       "      <th>target</th>\n",
       "    </tr>\n",
       "  </thead>\n",
       "  <tbody>\n",
       "    <tr>\n",
       "      <th>7608</th>\n",
       "      <td>Two giant cranes holding a bridge collapse int...</td>\n",
       "      <td>1</td>\n",
       "    </tr>\n",
       "    <tr>\n",
       "      <th>7609</th>\n",
       "      <td>@aria_ahrary @TheTawniest The out of control w...</td>\n",
       "      <td>1</td>\n",
       "    </tr>\n",
       "    <tr>\n",
       "      <th>7610</th>\n",
       "      <td>M1.94 [01:04 UTC]?5km S of Volcano Hawaii. htt...</td>\n",
       "      <td>1</td>\n",
       "    </tr>\n",
       "    <tr>\n",
       "      <th>7611</th>\n",
       "      <td>Police investigating after an e-bike collided ...</td>\n",
       "      <td>1</td>\n",
       "    </tr>\n",
       "    <tr>\n",
       "      <th>7612</th>\n",
       "      <td>The Latest: More Homes Razed by Northern Calif...</td>\n",
       "      <td>1</td>\n",
       "    </tr>\n",
       "  </tbody>\n",
       "</table>\n",
       "</div>"
      ],
      "text/plain": [
       "                                                   text  target\n",
       "7608  Two giant cranes holding a bridge collapse int...       1\n",
       "7609  @aria_ahrary @TheTawniest The out of control w...       1\n",
       "7610  M1.94 [01:04 UTC]?5km S of Volcano Hawaii. htt...       1\n",
       "7611  Police investigating after an e-bike collided ...       1\n",
       "7612  The Latest: More Homes Razed by Northern Calif...       1"
      ]
     },
     "execution_count": 3,
     "metadata": {},
     "output_type": "execute_result"
    }
   ],
   "source": [
    "train.tail(5)"
   ]
  },
  {
   "cell_type": "code",
   "execution_count": 4,
   "id": "499fd0ab",
   "metadata": {
    "execution": {
     "iopub.execute_input": "2023-05-03T10:08:07.012260Z",
     "iopub.status.busy": "2023-05-03T10:08:07.011838Z",
     "iopub.status.idle": "2023-05-03T10:08:07.018357Z",
     "shell.execute_reply": "2023-05-03T10:08:07.017022Z"
    },
    "papermill": {
     "duration": 0.021009,
     "end_time": "2023-05-03T10:08:07.021553",
     "exception": false,
     "start_time": "2023-05-03T10:08:07.000544",
     "status": "completed"
    },
    "tags": []
   },
   "outputs": [
    {
     "name": "stdout",
     "output_type": "stream",
     "text": [
      "There are 7613 rows and 2 columns in train\n",
      "There are 3263 rows and 4 columns in test\n"
     ]
    }
   ],
   "source": [
    "print('There are {} rows and {} columns in train'.format(train.shape[0],train.shape[1]))\n",
    "print('There are {} rows and {} columns in test'.format(test.shape[0],test.shape[1]))"
   ]
  },
  {
   "cell_type": "code",
   "execution_count": 5,
   "id": "8609b39d",
   "metadata": {
    "execution": {
     "iopub.execute_input": "2023-05-03T10:08:07.041477Z",
     "iopub.status.busy": "2023-05-03T10:08:07.041017Z",
     "iopub.status.idle": "2023-05-03T10:08:07.087194Z",
     "shell.execute_reply": "2023-05-03T10:08:07.085779Z"
    },
    "papermill": {
     "duration": 0.059539,
     "end_time": "2023-05-03T10:08:07.090045",
     "exception": false,
     "start_time": "2023-05-03T10:08:07.030506",
     "status": "completed"
    },
    "tags": []
   },
   "outputs": [
    {
     "data": {
      "text/html": [
       "<div>\n",
       "<style scoped>\n",
       "    .dataframe tbody tr th:only-of-type {\n",
       "        vertical-align: middle;\n",
       "    }\n",
       "\n",
       "    .dataframe tbody tr th {\n",
       "        vertical-align: top;\n",
       "    }\n",
       "\n",
       "    .dataframe thead tr th {\n",
       "        text-align: left;\n",
       "    }\n",
       "\n",
       "    .dataframe thead tr:last-of-type th {\n",
       "        text-align: right;\n",
       "    }\n",
       "</style>\n",
       "<table border=\"1\" class=\"dataframe\">\n",
       "  <thead>\n",
       "    <tr>\n",
       "      <th></th>\n",
       "      <th colspan=\"4\" halign=\"left\">text</th>\n",
       "    </tr>\n",
       "    <tr>\n",
       "      <th></th>\n",
       "      <th>count</th>\n",
       "      <th>unique</th>\n",
       "      <th>top</th>\n",
       "      <th>freq</th>\n",
       "    </tr>\n",
       "    <tr>\n",
       "      <th>target</th>\n",
       "      <th></th>\n",
       "      <th></th>\n",
       "      <th></th>\n",
       "      <th></th>\n",
       "    </tr>\n",
       "  </thead>\n",
       "  <tbody>\n",
       "    <tr>\n",
       "      <th>0</th>\n",
       "      <td>4342</td>\n",
       "      <td>4315</td>\n",
       "      <td>The Prophet (peace be upon him) said 'Save you...</td>\n",
       "      <td>4</td>\n",
       "    </tr>\n",
       "    <tr>\n",
       "      <th>1</th>\n",
       "      <td>3271</td>\n",
       "      <td>3206</td>\n",
       "      <td>11-Year-Old Boy Charged With Manslaughter of T...</td>\n",
       "      <td>10</td>\n",
       "    </tr>\n",
       "  </tbody>\n",
       "</table>\n",
       "</div>"
      ],
      "text/plain": [
       "        text                                                               \n",
       "       count unique                                                top freq\n",
       "target                                                                     \n",
       "0       4342   4315  The Prophet (peace be upon him) said 'Save you...    4\n",
       "1       3271   3206  11-Year-Old Boy Charged With Manslaughter of T...   10"
      ]
     },
     "execution_count": 5,
     "metadata": {},
     "output_type": "execute_result"
    }
   ],
   "source": [
    "train.groupby('target').describe()"
   ]
  },
  {
   "cell_type": "code",
   "execution_count": 6,
   "id": "e9dcf10d",
   "metadata": {
    "execution": {
     "iopub.execute_input": "2023-05-03T10:08:07.110041Z",
     "iopub.status.busy": "2023-05-03T10:08:07.109614Z",
     "iopub.status.idle": "2023-05-03T10:08:07.124387Z",
     "shell.execute_reply": "2023-05-03T10:08:07.123314Z"
    },
    "papermill": {
     "duration": 0.027735,
     "end_time": "2023-05-03T10:08:07.126879",
     "exception": false,
     "start_time": "2023-05-03T10:08:07.099144",
     "status": "completed"
    },
    "tags": []
   },
   "outputs": [
    {
     "data": {
      "text/html": [
       "<div>\n",
       "<style scoped>\n",
       "    .dataframe tbody tr th:only-of-type {\n",
       "        vertical-align: middle;\n",
       "    }\n",
       "\n",
       "    .dataframe tbody tr th {\n",
       "        vertical-align: top;\n",
       "    }\n",
       "\n",
       "    .dataframe thead th {\n",
       "        text-align: right;\n",
       "    }\n",
       "</style>\n",
       "<table border=\"1\" class=\"dataframe\">\n",
       "  <thead>\n",
       "    <tr style=\"text-align: right;\">\n",
       "      <th></th>\n",
       "      <th>text</th>\n",
       "      <th>target</th>\n",
       "      <th>text_len</th>\n",
       "    </tr>\n",
       "  </thead>\n",
       "  <tbody>\n",
       "    <tr>\n",
       "      <th>7608</th>\n",
       "      <td>Two giant cranes holding a bridge collapse int...</td>\n",
       "      <td>1</td>\n",
       "      <td>83</td>\n",
       "    </tr>\n",
       "    <tr>\n",
       "      <th>7609</th>\n",
       "      <td>@aria_ahrary @TheTawniest The out of control w...</td>\n",
       "      <td>1</td>\n",
       "      <td>125</td>\n",
       "    </tr>\n",
       "    <tr>\n",
       "      <th>7610</th>\n",
       "      <td>M1.94 [01:04 UTC]?5km S of Volcano Hawaii. htt...</td>\n",
       "      <td>1</td>\n",
       "      <td>65</td>\n",
       "    </tr>\n",
       "    <tr>\n",
       "      <th>7611</th>\n",
       "      <td>Police investigating after an e-bike collided ...</td>\n",
       "      <td>1</td>\n",
       "      <td>137</td>\n",
       "    </tr>\n",
       "    <tr>\n",
       "      <th>7612</th>\n",
       "      <td>The Latest: More Homes Razed by Northern Calif...</td>\n",
       "      <td>1</td>\n",
       "      <td>94</td>\n",
       "    </tr>\n",
       "  </tbody>\n",
       "</table>\n",
       "</div>"
      ],
      "text/plain": [
       "                                                   text  target  text_len\n",
       "7608  Two giant cranes holding a bridge collapse int...       1        83\n",
       "7609  @aria_ahrary @TheTawniest The out of control w...       1       125\n",
       "7610  M1.94 [01:04 UTC]?5km S of Volcano Hawaii. htt...       1        65\n",
       "7611  Police investigating after an e-bike collided ...       1       137\n",
       "7612  The Latest: More Homes Razed by Northern Calif...       1        94"
      ]
     },
     "execution_count": 6,
     "metadata": {},
     "output_type": "execute_result"
    }
   ],
   "source": [
    "train['text_len'] = train['text'].apply(len)\n",
    "train.tail()"
   ]
  },
  {
   "cell_type": "code",
   "execution_count": 7,
   "id": "9b4e0d89",
   "metadata": {
    "execution": {
     "iopub.execute_input": "2023-05-03T10:08:07.148787Z",
     "iopub.status.busy": "2023-05-03T10:08:07.148182Z",
     "iopub.status.idle": "2023-05-03T10:08:07.614431Z",
     "shell.execute_reply": "2023-05-03T10:08:07.613417Z"
    },
    "papermill": {
     "duration": 0.479775,
     "end_time": "2023-05-03T10:08:07.617031",
     "exception": false,
     "start_time": "2023-05-03T10:08:07.137256",
     "status": "completed"
    },
    "tags": []
   },
   "outputs": [
    {
     "data": {
      "text/plain": [
       "Text(0.5, 0, 'text length')"
      ]
     },
     "execution_count": 7,
     "metadata": {},
     "output_type": "execute_result"
    },
    {
     "data": {
      "image/png": "[encoded data removed]",
      "text/plain": [
       "<Figure size 640x480 with 1 Axes>"
      ]
     },
     "metadata": {},
     "output_type": "display_data"
    }
   ],
   "source": [
    "train['text_len'].value_counts().plot(kind='hist')\n",
    "plt.legend()\n",
    "plt.xlabel('text length')"
   ]
  },
  {
   "cell_type": "markdown",
   "id": "263723b1",
   "metadata": {
    "papermill": {
     "duration": 0.009329,
     "end_time": "2023-05-03T10:08:07.637180",
     "exception": false,
     "start_time": "2023-05-03T10:08:07.627851",
     "status": "completed"
    },
    "tags": []
   },
   "source": [
    "### We can see most of the tweets are having tweets with length less 75 characters"
   ]
  },
  {
   "cell_type": "markdown",
   "id": "c0841c15",
   "metadata": {
    "papermill": {
     "duration": 0.009982,
     "end_time": "2023-05-03T10:08:07.656768",
     "exception": false,
     "start_time": "2023-05-03T10:08:07.646786",
     "status": "completed"
    },
    "tags": []
   },
   "source": [
    "## text_pre_processing"
   ]
  },
  {
   "cell_type": "code",
   "execution_count": 8,
   "id": "ef1a1451",
   "metadata": {
    "execution": {
     "iopub.execute_input": "2023-05-03T10:08:07.679670Z",
     "iopub.status.busy": "2023-05-03T10:08:07.678330Z",
     "iopub.status.idle": "2023-05-03T10:08:08.545071Z",
     "shell.execute_reply": "2023-05-03T10:08:08.543892Z"
    },
    "papermill": {
     "duration": 0.880809,
     "end_time": "2023-05-03T10:08:08.547892",
     "exception": false,
     "start_time": "2023-05-03T10:08:07.667083",
     "status": "completed"
    },
    "tags": []
   },
   "outputs": [],
   "source": [
    "import string\n",
    "from nltk.corpus import stopwords\n",
    "\n",
    "def clean_text(text):\n",
    "    '''Make text lowercase,,remove punctuation\n",
    "    and remove words containing numbers.'''\n",
    "    text = str(text).lower() ## convert to lower case\n",
    "    text = re.sub('\\[.*?\\]', '', text) ## remove text in square brackets\n",
    "    text = re.sub('https?://\\S+|www\\.\\S+', '', text) ## remove links\n",
    "    text = re.sub('<.*?>+', '', text) \n",
    "    text = re.sub('[%s]' % re.escape(string.punctuation), '', text) ##remove punctuation\n",
    "    text = re.sub('\\n', '', text) ## remove newlines\n",
    "    text = re.sub('\\w*\\d\\w*', '', text) ## removes any alphanumeric sequence that contains at least one digit from the text string.\n",
    "    return text"
   ]
  },
  {
   "cell_type": "code",
   "execution_count": 9,
   "id": "2972d36e",
   "metadata": {
    "execution": {
     "iopub.execute_input": "2023-05-03T10:08:08.570120Z",
     "iopub.status.busy": "2023-05-03T10:08:08.569620Z",
     "iopub.status.idle": "2023-05-03T10:08:08.758310Z",
     "shell.execute_reply": "2023-05-03T10:08:08.757013Z"
    },
    "papermill": {
     "duration": 0.203035,
     "end_time": "2023-05-03T10:08:08.761001",
     "exception": false,
     "start_time": "2023-05-03T10:08:08.557966",
     "status": "completed"
    },
    "tags": []
   },
   "outputs": [
    {
     "data": {
      "text/html": [
       "<div>\n",
       "<style scoped>\n",
       "    .dataframe tbody tr th:only-of-type {\n",
       "        vertical-align: middle;\n",
       "    }\n",
       "\n",
       "    .dataframe tbody tr th {\n",
       "        vertical-align: top;\n",
       "    }\n",
       "\n",
       "    .dataframe thead th {\n",
       "        text-align: right;\n",
       "    }\n",
       "</style>\n",
       "<table border=\"1\" class=\"dataframe\">\n",
       "  <thead>\n",
       "    <tr style=\"text-align: right;\">\n",
       "      <th></th>\n",
       "      <th>text</th>\n",
       "      <th>target</th>\n",
       "      <th>text_len</th>\n",
       "      <th>clean_text</th>\n",
       "    </tr>\n",
       "  </thead>\n",
       "  <tbody>\n",
       "    <tr>\n",
       "      <th>7608</th>\n",
       "      <td>Two giant cranes holding a bridge collapse int...</td>\n",
       "      <td>1</td>\n",
       "      <td>83</td>\n",
       "      <td>two giant cranes holding a bridge collapse int...</td>\n",
       "    </tr>\n",
       "    <tr>\n",
       "      <th>7609</th>\n",
       "      <td>@aria_ahrary @TheTawniest The out of control w...</td>\n",
       "      <td>1</td>\n",
       "      <td>125</td>\n",
       "      <td>ariaahrary thetawniest the out of control wild...</td>\n",
       "    </tr>\n",
       "    <tr>\n",
       "      <th>7610</th>\n",
       "      <td>M1.94 [01:04 UTC]?5km S of Volcano Hawaii. htt...</td>\n",
       "      <td>1</td>\n",
       "      <td>65</td>\n",
       "      <td>s of volcano hawaii</td>\n",
       "    </tr>\n",
       "    <tr>\n",
       "      <th>7611</th>\n",
       "      <td>Police investigating after an e-bike collided ...</td>\n",
       "      <td>1</td>\n",
       "      <td>137</td>\n",
       "      <td>police investigating after an ebike collided w...</td>\n",
       "    </tr>\n",
       "    <tr>\n",
       "      <th>7612</th>\n",
       "      <td>The Latest: More Homes Razed by Northern Calif...</td>\n",
       "      <td>1</td>\n",
       "      <td>94</td>\n",
       "      <td>the latest more homes razed by northern califo...</td>\n",
       "    </tr>\n",
       "  </tbody>\n",
       "</table>\n",
       "</div>"
      ],
      "text/plain": [
       "                                                   text  target  text_len  \\\n",
       "7608  Two giant cranes holding a bridge collapse int...       1        83   \n",
       "7609  @aria_ahrary @TheTawniest The out of control w...       1       125   \n",
       "7610  M1.94 [01:04 UTC]?5km S of Volcano Hawaii. htt...       1        65   \n",
       "7611  Police investigating after an e-bike collided ...       1       137   \n",
       "7612  The Latest: More Homes Razed by Northern Calif...       1        94   \n",
       "\n",
       "                                             clean_text  \n",
       "7608  two giant cranes holding a bridge collapse int...  \n",
       "7609  ariaahrary thetawniest the out of control wild...  \n",
       "7610                               s of volcano hawaii   \n",
       "7611  police investigating after an ebike collided w...  \n",
       "7612  the latest more homes razed by northern califo...  "
      ]
     },
     "execution_count": 9,
     "metadata": {},
     "output_type": "execute_result"
    }
   ],
   "source": [
    "train['clean_text'] = train['text'].apply(clean_text)\n",
    "\n",
    "train.tail()"
   ]
  },
  {
   "cell_type": "markdown",
   "id": "c1fd89f3",
   "metadata": {
    "papermill": {
     "duration": 0.009475,
     "end_time": "2023-05-03T10:08:08.780580",
     "exception": false,
     "start_time": "2023-05-03T10:08:08.771105",
     "status": "completed"
    },
    "tags": []
   },
   "source": [
    "## Dealing with Stopwords"
   ]
  },
  {
   "cell_type": "code",
   "execution_count": 10,
   "id": "b7ec6c07",
   "metadata": {
    "execution": {
     "iopub.execute_input": "2023-05-03T10:08:08.803634Z",
     "iopub.status.busy": "2023-05-03T10:08:08.802713Z",
     "iopub.status.idle": "2023-05-03T10:08:09.123915Z",
     "shell.execute_reply": "2023-05-03T10:08:09.122627Z"
    },
    "papermill": {
     "duration": 0.335634,
     "end_time": "2023-05-03T10:08:09.126643",
     "exception": false,
     "start_time": "2023-05-03T10:08:08.791009",
     "status": "completed"
    },
    "tags": []
   },
   "outputs": [
    {
     "data": {
      "text/html": [
       "<div>\n",
       "<style scoped>\n",
       "    .dataframe tbody tr th:only-of-type {\n",
       "        vertical-align: middle;\n",
       "    }\n",
       "\n",
       "    .dataframe tbody tr th {\n",
       "        vertical-align: top;\n",
       "    }\n",
       "\n",
       "    .dataframe thead th {\n",
       "        text-align: right;\n",
       "    }\n",
       "</style>\n",
       "<table border=\"1\" class=\"dataframe\">\n",
       "  <thead>\n",
       "    <tr style=\"text-align: right;\">\n",
       "      <th></th>\n",
       "      <th>text</th>\n",
       "      <th>target</th>\n",
       "      <th>text_len</th>\n",
       "      <th>clean_text</th>\n",
       "    </tr>\n",
       "  </thead>\n",
       "  <tbody>\n",
       "    <tr>\n",
       "      <th>7608</th>\n",
       "      <td>Two giant cranes holding a bridge collapse int...</td>\n",
       "      <td>1</td>\n",
       "      <td>83</td>\n",
       "      <td>two giant cranes holding bridge collapse nearb...</td>\n",
       "    </tr>\n",
       "    <tr>\n",
       "      <th>7609</th>\n",
       "      <td>@aria_ahrary @TheTawniest The out of control w...</td>\n",
       "      <td>1</td>\n",
       "      <td>125</td>\n",
       "      <td>ariaahrary thetawniest control wild fires cali...</td>\n",
       "    </tr>\n",
       "    <tr>\n",
       "      <th>7610</th>\n",
       "      <td>M1.94 [01:04 UTC]?5km S of Volcano Hawaii. htt...</td>\n",
       "      <td>1</td>\n",
       "      <td>65</td>\n",
       "      <td>volcano hawaii</td>\n",
       "    </tr>\n",
       "    <tr>\n",
       "      <th>7611</th>\n",
       "      <td>Police investigating after an e-bike collided ...</td>\n",
       "      <td>1</td>\n",
       "      <td>137</td>\n",
       "      <td>police investigating ebike collided car little...</td>\n",
       "    </tr>\n",
       "    <tr>\n",
       "      <th>7612</th>\n",
       "      <td>The Latest: More Homes Razed by Northern Calif...</td>\n",
       "      <td>1</td>\n",
       "      <td>94</td>\n",
       "      <td>latest homes razed northern california wildfir...</td>\n",
       "    </tr>\n",
       "  </tbody>\n",
       "</table>\n",
       "</div>"
      ],
      "text/plain": [
       "                                                   text  target  text_len  \\\n",
       "7608  Two giant cranes holding a bridge collapse int...       1        83   \n",
       "7609  @aria_ahrary @TheTawniest The out of control w...       1       125   \n",
       "7610  M1.94 [01:04 UTC]?5km S of Volcano Hawaii. htt...       1        65   \n",
       "7611  Police investigating after an e-bike collided ...       1       137   \n",
       "7612  The Latest: More Homes Razed by Northern Calif...       1        94   \n",
       "\n",
       "                                             clean_text  \n",
       "7608  two giant cranes holding bridge collapse nearb...  \n",
       "7609  ariaahrary thetawniest control wild fires cali...  \n",
       "7610                                    volcano hawaii   \n",
       "7611  police investigating ebike collided car little...  \n",
       "7612  latest homes razed northern california wildfir...  "
      ]
     },
     "execution_count": 10,
     "metadata": {},
     "output_type": "execute_result"
    }
   ],
   "source": [
    "stop_words = stopwords.words('english')\n",
    "more_stopwords = ['u', 'im', 'c']\n",
    "stop_words = stop_words + more_stopwords\n",
    "\n",
    "def remove_stopwords(text):\n",
    "    words = text.split(' ')\n",
    "    words = [word for word in words if word not in stop_words]\n",
    "    text = ' '.join(words)\n",
    "    return text\n",
    "\n",
    "\n",
    "train['clean_text'] = train['clean_text'].apply(remove_stopwords)\n",
    "train.tail()"
   ]
  },
  {
   "cell_type": "code",
   "execution_count": 11,
   "id": "bf7ff1c2",
   "metadata": {
    "execution": {
     "iopub.execute_input": "2023-05-03T10:08:09.149665Z",
     "iopub.status.busy": "2023-05-03T10:08:09.148399Z",
     "iopub.status.idle": "2023-05-03T10:08:10.246925Z",
     "shell.execute_reply": "2023-05-03T10:08:10.245492Z"
    },
    "papermill": {
     "duration": 1.112975,
     "end_time": "2023-05-03T10:08:10.249803",
     "exception": false,
     "start_time": "2023-05-03T10:08:09.136828",
     "status": "completed"
    },
    "tags": []
   },
   "outputs": [
    {
     "data": {
      "text/plain": [
       "'polic kill hatchetwield gunman open fire insid nashvill movi theater aã¥ã\\x8amiddleag manã¥ã\\x8aarm wi '"
      ]
     },
     "execution_count": 11,
     "metadata": {},
     "output_type": "execute_result"
    }
   ],
   "source": [
    "import nltk\n",
    "from nltk.stem import PorterStemmer\n",
    "\n",
    "\n",
    "stemmer = nltk.SnowballStemmer(\"english\")\n",
    "\n",
    "def stemm_text(text):\n",
    "    text = ' '.join(stemmer.stem(word) for word in text.split(' '))\n",
    "    return text\n",
    "train['clean_text'] = train['clean_text'].apply(stemm_text)\n",
    "train['clean_text'].loc[5433]"
   ]
  },
  {
   "cell_type": "code",
   "execution_count": 12,
   "id": "850245ad",
   "metadata": {
    "execution": {
     "iopub.execute_input": "2023-05-03T10:08:10.272992Z",
     "iopub.status.busy": "2023-05-03T10:08:10.271835Z",
     "iopub.status.idle": "2023-05-03T10:08:12.019217Z",
     "shell.execute_reply": "2023-05-03T10:08:12.017847Z"
    },
    "papermill": {
     "duration": 1.761841,
     "end_time": "2023-05-03T10:08:12.021920",
     "exception": false,
     "start_time": "2023-05-03T10:08:10.260079",
     "status": "completed"
    },
    "tags": []
   },
   "outputs": [
    {
     "data": {
      "text/plain": [
       "'polic kill hatchetwield gunman open fire insid nashvil movi theater aã¥ã\\x8amiddleag manã¥ã\\x8aarm wi '"
      ]
     },
     "execution_count": 12,
     "metadata": {},
     "output_type": "execute_result"
    }
   ],
   "source": [
    "porter_stemmer = nltk.PorterStemmer()\n",
    "\n",
    "def stemm_text(text):\n",
    "    text = ' '.join(porter_stemmer.stem(word) for word in text.split(' '))\n",
    "    return text\n",
    "train['clean_text'] = train['clean_text'].apply(stemm_text)\n",
    "train['clean_text'].loc[5433]"
   ]
  },
  {
   "cell_type": "markdown",
   "id": "88f5f509",
   "metadata": {
    "papermill": {
     "duration": 0.010386,
     "end_time": "2023-05-03T10:08:12.043025",
     "exception": false,
     "start_time": "2023-05-03T10:08:12.032639",
     "status": "completed"
    },
    "tags": []
   },
   "source": [
    "## Merging all the above functions together"
   ]
  },
  {
   "cell_type": "code",
   "execution_count": 13,
   "id": "11124a87",
   "metadata": {
    "execution": {
     "iopub.execute_input": "2023-05-03T10:08:12.066720Z",
     "iopub.status.busy": "2023-05-03T10:08:12.065798Z",
     "iopub.status.idle": "2023-05-03T10:08:12.072729Z",
     "shell.execute_reply": "2023-05-03T10:08:12.071644Z"
    },
    "papermill": {
     "duration": 0.021879,
     "end_time": "2023-05-03T10:08:12.075254",
     "exception": false,
     "start_time": "2023-05-03T10:08:12.053375",
     "status": "completed"
    },
    "tags": []
   },
   "outputs": [],
   "source": [
    "def preprocess_data(text):\n",
    "    # Clean puntuation, urls, and so on\n",
    "    text = clean_text(text)\n",
    "    # Remove stopwords\n",
    "    text = ' '.join(word for word in text.split(' ') if word not in stop_words)\n",
    "    # Stemm all the words in the sentence\n",
    "    text = ' '.join(porter_stemmer.stem(word) for word in text.split(' '))\n",
    "    \n",
    "    return text"
   ]
  },
  {
   "cell_type": "code",
   "execution_count": 14,
   "id": "ee137d6c",
   "metadata": {
    "execution": {
     "iopub.execute_input": "2023-05-03T10:08:12.098577Z",
     "iopub.status.busy": "2023-05-03T10:08:12.097716Z",
     "iopub.status.idle": "2023-05-03T10:08:14.278727Z",
     "shell.execute_reply": "2023-05-03T10:08:14.277504Z"
    },
    "papermill": {
     "duration": 2.195589,
     "end_time": "2023-05-03T10:08:14.281366",
     "exception": false,
     "start_time": "2023-05-03T10:08:12.085777",
     "status": "completed"
    },
    "tags": []
   },
   "outputs": [
    {
     "data": {
      "text/html": [
       "<div>\n",
       "<style scoped>\n",
       "    .dataframe tbody tr th:only-of-type {\n",
       "        vertical-align: middle;\n",
       "    }\n",
       "\n",
       "    .dataframe tbody tr th {\n",
       "        vertical-align: top;\n",
       "    }\n",
       "\n",
       "    .dataframe thead th {\n",
       "        text-align: right;\n",
       "    }\n",
       "</style>\n",
       "<table border=\"1\" class=\"dataframe\">\n",
       "  <thead>\n",
       "    <tr style=\"text-align: right;\">\n",
       "      <th></th>\n",
       "      <th>text</th>\n",
       "      <th>target</th>\n",
       "      <th>text_len</th>\n",
       "      <th>clean_text</th>\n",
       "    </tr>\n",
       "  </thead>\n",
       "  <tbody>\n",
       "    <tr>\n",
       "      <th>0</th>\n",
       "      <td>Our Deeds are the Reason of this #earthquake M...</td>\n",
       "      <td>1</td>\n",
       "      <td>69</td>\n",
       "      <td>deed reason earthquak may allah forgiv us</td>\n",
       "    </tr>\n",
       "    <tr>\n",
       "      <th>1</th>\n",
       "      <td>Forest fire near La Ronge Sask. Canada</td>\n",
       "      <td>1</td>\n",
       "      <td>38</td>\n",
       "      <td>forest fire near la rong sask canada</td>\n",
       "    </tr>\n",
       "    <tr>\n",
       "      <th>2</th>\n",
       "      <td>All residents asked to 'shelter in place' are ...</td>\n",
       "      <td>1</td>\n",
       "      <td>133</td>\n",
       "      <td>resid ask shelter place notifi offic evacu she...</td>\n",
       "    </tr>\n",
       "    <tr>\n",
       "      <th>3</th>\n",
       "      <td>13,000 people receive #wildfires evacuation or...</td>\n",
       "      <td>1</td>\n",
       "      <td>65</td>\n",
       "      <td>peopl receiv wildfir evacu order california</td>\n",
       "    </tr>\n",
       "    <tr>\n",
       "      <th>4</th>\n",
       "      <td>Just got sent this photo from Ruby #Alaska as ...</td>\n",
       "      <td>1</td>\n",
       "      <td>88</td>\n",
       "      <td>got sent photo rubi alaska smoke wildfir pour ...</td>\n",
       "    </tr>\n",
       "  </tbody>\n",
       "</table>\n",
       "</div>"
      ],
      "text/plain": [
       "                                                text  target  text_len  \\\n",
       "0  Our Deeds are the Reason of this #earthquake M...       1        69   \n",
       "1             Forest fire near La Ronge Sask. Canada       1        38   \n",
       "2  All residents asked to 'shelter in place' are ...       1       133   \n",
       "3  13,000 people receive #wildfires evacuation or...       1        65   \n",
       "4  Just got sent this photo from Ruby #Alaska as ...       1        88   \n",
       "\n",
       "                                          clean_text  \n",
       "0          deed reason earthquak may allah forgiv us  \n",
       "1               forest fire near la rong sask canada  \n",
       "2  resid ask shelter place notifi offic evacu she...  \n",
       "3       peopl receiv wildfir evacu order california   \n",
       "4  got sent photo rubi alaska smoke wildfir pour ...  "
      ]
     },
     "execution_count": 14,
     "metadata": {},
     "output_type": "execute_result"
    }
   ],
   "source": [
    "train['clean_text'] = train['clean_text'].apply(preprocess_data)\n",
    "train.head()"
   ]
  },
  {
   "cell_type": "code",
   "execution_count": 15,
   "id": "712cdcf5",
   "metadata": {
    "_kg_hide-input": true,
    "execution": {
     "iopub.execute_input": "2023-05-03T10:08:14.305613Z",
     "iopub.status.busy": "2023-05-03T10:08:14.304294Z",
     "iopub.status.idle": "2023-05-03T10:08:14.317932Z",
     "shell.execute_reply": "2023-05-03T10:08:14.316512Z"
    },
    "papermill": {
     "duration": 0.028526,
     "end_time": "2023-05-03T10:08:14.320852",
     "exception": false,
     "start_time": "2023-05-03T10:08:14.292326",
     "status": "completed"
    },
    "tags": []
   },
   "outputs": [
    {
     "data": {
      "text/html": [
       "<div>\n",
       "<style scoped>\n",
       "    .dataframe tbody tr th:only-of-type {\n",
       "        vertical-align: middle;\n",
       "    }\n",
       "\n",
       "    .dataframe tbody tr th {\n",
       "        vertical-align: top;\n",
       "    }\n",
       "\n",
       "    .dataframe thead th {\n",
       "        text-align: right;\n",
       "    }\n",
       "</style>\n",
       "<table border=\"1\" class=\"dataframe\">\n",
       "  <thead>\n",
       "    <tr style=\"text-align: right;\">\n",
       "      <th></th>\n",
       "      <th>id</th>\n",
       "      <th>keyword</th>\n",
       "      <th>location</th>\n",
       "      <th>text</th>\n",
       "    </tr>\n",
       "  </thead>\n",
       "  <tbody>\n",
       "    <tr>\n",
       "      <th>3256</th>\n",
       "      <td>10857</td>\n",
       "      <td>NaN</td>\n",
       "      <td>NaN</td>\n",
       "      <td>To conference attendees! The blue line from th...</td>\n",
       "    </tr>\n",
       "    <tr>\n",
       "      <th>3257</th>\n",
       "      <td>10858</td>\n",
       "      <td>NaN</td>\n",
       "      <td>NaN</td>\n",
       "      <td>The death toll in a #IS-suicide car bombing on...</td>\n",
       "    </tr>\n",
       "    <tr>\n",
       "      <th>3258</th>\n",
       "      <td>10861</td>\n",
       "      <td>NaN</td>\n",
       "      <td>NaN</td>\n",
       "      <td>EARTHQUAKE SAFETY LOS ANGELES ÛÒ SAFETY FASTE...</td>\n",
       "    </tr>\n",
       "    <tr>\n",
       "      <th>3259</th>\n",
       "      <td>10865</td>\n",
       "      <td>NaN</td>\n",
       "      <td>NaN</td>\n",
       "      <td>Storm in RI worse than last hurricane. My city...</td>\n",
       "    </tr>\n",
       "    <tr>\n",
       "      <th>3260</th>\n",
       "      <td>10868</td>\n",
       "      <td>NaN</td>\n",
       "      <td>NaN</td>\n",
       "      <td>Green Line derailment in Chicago http://t.co/U...</td>\n",
       "    </tr>\n",
       "    <tr>\n",
       "      <th>3261</th>\n",
       "      <td>10874</td>\n",
       "      <td>NaN</td>\n",
       "      <td>NaN</td>\n",
       "      <td>MEG issues Hazardous Weather Outlook (HWO) htt...</td>\n",
       "    </tr>\n",
       "    <tr>\n",
       "      <th>3262</th>\n",
       "      <td>10875</td>\n",
       "      <td>NaN</td>\n",
       "      <td>NaN</td>\n",
       "      <td>#CityofCalgary has activated its Municipal Eme...</td>\n",
       "    </tr>\n",
       "  </tbody>\n",
       "</table>\n",
       "</div>"
      ],
      "text/plain": [
       "         id keyword location  \\\n",
       "3256  10857     NaN      NaN   \n",
       "3257  10858     NaN      NaN   \n",
       "3258  10861     NaN      NaN   \n",
       "3259  10865     NaN      NaN   \n",
       "3260  10868     NaN      NaN   \n",
       "3261  10874     NaN      NaN   \n",
       "3262  10875     NaN      NaN   \n",
       "\n",
       "                                                   text  \n",
       "3256  To conference attendees! The blue line from th...  \n",
       "3257  The death toll in a #IS-suicide car bombing on...  \n",
       "3258  EARTHQUAKE SAFETY LOS ANGELES ÛÒ SAFETY FASTE...  \n",
       "3259  Storm in RI worse than last hurricane. My city...  \n",
       "3260  Green Line derailment in Chicago http://t.co/U...  \n",
       "3261  MEG issues Hazardous Weather Outlook (HWO) htt...  \n",
       "3262  #CityofCalgary has activated its Municipal Eme...  "
      ]
     },
     "execution_count": 15,
     "metadata": {},
     "output_type": "execute_result"
    }
   ],
   "source": [
    "test.tail(7)"
   ]
  },
  {
   "cell_type": "code",
   "execution_count": 16,
   "id": "97f65731",
   "metadata": {
    "execution": {
     "iopub.execute_input": "2023-05-03T10:08:14.344980Z",
     "iopub.status.busy": "2023-05-03T10:08:14.343974Z",
     "iopub.status.idle": "2023-05-03T10:08:14.831286Z",
     "shell.execute_reply": "2023-05-03T10:08:14.829592Z"
    },
    "papermill": {
     "duration": 0.50269,
     "end_time": "2023-05-03T10:08:14.834534",
     "exception": false,
     "start_time": "2023-05-03T10:08:14.331844",
     "status": "completed"
    },
    "tags": []
   },
   "outputs": [],
   "source": [
    "from sklearn.feature_extraction.text import CountVectorizer, TfidfVectorizer\n",
    "vectorizer = TfidfVectorizer(min_df=3,  max_features=None, \n",
    "            strip_accents='unicode', analyzer='word',token_pattern=r'\\w{1,}',\n",
    "            ngram_range=(1, 3), use_idf=1,smooth_idf=1,sublinear_tf=1,\n",
    "            stop_words = 'english')\n",
    "X_train = vectorizer.fit_transform(train['clean_text'])\n",
    "y_train = train['target']\n",
    "X_test = vectorizer.transform(test['text'])"
   ]
  },
  {
   "cell_type": "code",
   "execution_count": 17,
   "id": "3c8304f5",
   "metadata": {
    "_kg_hide-input": true,
    "execution": {
     "iopub.execute_input": "2023-05-03T10:08:14.858293Z",
     "iopub.status.busy": "2023-05-03T10:08:14.857587Z",
     "iopub.status.idle": "2023-05-03T10:08:14.865398Z",
     "shell.execute_reply": "2023-05-03T10:08:14.863608Z"
    },
    "papermill": {
     "duration": 0.022664,
     "end_time": "2023-05-03T10:08:14.868036",
     "exception": false,
     "start_time": "2023-05-03T10:08:14.845372",
     "status": "completed"
    },
    "tags": []
   },
   "outputs": [
    {
     "name": "stdout",
     "output_type": "stream",
     "text": [
      "  (0, 1380)\t0.683295083808629\n",
      "  (0, 935)\t0.7301423343725241\n",
      "  (1, 5884)\t0.5494893766848795\n",
      "  (1, 5329)\t0.6357870875604549\n",
      "  (1, 2820)\t0.5420666049498504\n",
      "  (2, 5945)\t0.43441313167070333\n",
      "  (2, 5823)\t0.4483502693002583\n",
      "  (2, 5386)\t0.38381857623938154\n",
      "  (2, 4759)\t0.5590112809706804\n",
      "  (2, 2432)\t0.3878878128164523\n",
      "  (4, 6464)\t0.45288200781725113\n",
      "  (4, 6463)\t0.4308950881437664\n",
      "  (4, 6095)\t0.48134049017291713\n",
      "  (4, 5756)\t0.4473306046756262\n",
      "  (4, 1074)\t0.42122912132190654\n",
      "  (6, 6975)\t0.806931324070396\n",
      "  (6, 3571)\t0.5906452727602223\n",
      "  (7, 2861)\t1.0\n",
      "  (8, 4261)\t0.6673113266284694\n",
      "  (8, 2775)\t0.7447788889014995\n",
      "  (9, 2495)\t1.0\n",
      "  (10, 3588)\t0.47425078814099125\n",
      "  (10, 1181)\t0.8803897943227469\n",
      "  (12, 6141)\t1.0\n",
      "  (15, 4244)\t0.22168698338141812\n",
      "  :\t:\n",
      "  (3256, 3611)\t0.4050357218030055\n",
      "  (3256, 2990)\t0.4926571390739094\n",
      "  (3256, 676)\t0.4249331095893369\n",
      "  (3256, 143)\t0.398967376798645\n",
      "  (3257, 6261)\t0.4881020371689813\n",
      "  (3257, 1922)\t0.5311554262945011\n",
      "  (3257, 1537)\t0.5172953307548783\n",
      "  (3257, 1533)\t0.3241825041706723\n",
      "  (3257, 935)\t0.32701920310316696\n",
      "  (3259, 5924)\t0.44614102667735284\n",
      "  (3259, 4799)\t0.5391694083549687\n",
      "  (3259, 3588)\t0.34403993913012876\n",
      "  (3259, 2908)\t0.5005943043267382\n",
      "  (3259, 198)\t0.3758941289357908\n",
      "  (3260, 3611)\t0.45384744592918724\n",
      "  (3260, 2656)\t0.5520283082493664\n",
      "  (3260, 2655)\t0.47951284474859507\n",
      "  (3260, 1057)\t0.5092687644417293\n",
      "  (3261, 6749)\t0.42440251338848406\n",
      "  (3261, 6748)\t0.41862573465055675\n",
      "  (3261, 6746)\t0.3303823670615252\n",
      "  (3261, 4462)\t0.42440251338848406\n",
      "  (3261, 4461)\t0.41862573465055675\n",
      "  (3261, 3046)\t0.42440251338848406\n",
      "  (3262, 4681)\t1.0\n"
     ]
    }
   ],
   "source": [
    "print(X_test)"
   ]
  },
  {
   "cell_type": "code",
   "execution_count": 18,
   "id": "3a248c75",
   "metadata": {
    "execution": {
     "iopub.execute_input": "2023-05-03T10:08:14.892005Z",
     "iopub.status.busy": "2023-05-03T10:08:14.891553Z",
     "iopub.status.idle": "2023-05-03T10:08:14.897597Z",
     "shell.execute_reply": "2023-05-03T10:08:14.896083Z"
    },
    "papermill": {
     "duration": 0.02121,
     "end_time": "2023-05-03T10:08:14.900307",
     "exception": false,
     "start_time": "2023-05-03T10:08:14.879097",
     "status": "completed"
    },
    "tags": []
   },
   "outputs": [],
   "source": [
    "from sklearn.model_selection import train_test_split\n",
    "from sklearn.linear_model import LogisticRegression"
   ]
  },
  {
   "cell_type": "code",
   "execution_count": 19,
   "id": "2fd23420",
   "metadata": {
    "execution": {
     "iopub.execute_input": "2023-05-03T10:08:14.924816Z",
     "iopub.status.busy": "2023-05-03T10:08:14.924315Z",
     "iopub.status.idle": "2023-05-03T10:08:14.934422Z",
     "shell.execute_reply": "2023-05-03T10:08:14.933385Z"
    },
    "papermill": {
     "duration": 0.025134,
     "end_time": "2023-05-03T10:08:14.936768",
     "exception": false,
     "start_time": "2023-05-03T10:08:14.911634",
     "status": "completed"
    },
    "tags": []
   },
   "outputs": [],
   "source": [
    "X_train, X_val, y_train, y_val = train_test_split(X_train, y_train, test_size = 0.2, random_state = 42)"
   ]
  },
  {
   "cell_type": "code",
   "execution_count": 20,
   "id": "42399016",
   "metadata": {
    "execution": {
     "iopub.execute_input": "2023-05-03T10:08:14.961581Z",
     "iopub.status.busy": "2023-05-03T10:08:14.960067Z",
     "iopub.status.idle": "2023-05-03T10:08:15.067604Z",
     "shell.execute_reply": "2023-05-03T10:08:15.066217Z"
    },
    "papermill": {
     "duration": 0.122991,
     "end_time": "2023-05-03T10:08:15.070778",
     "exception": false,
     "start_time": "2023-05-03T10:08:14.947787",
     "status": "completed"
    },
    "tags": []
   },
   "outputs": [
    {
     "data": {
      "text/plain": [
       "LogisticRegression(random_state=42)"
      ]
     },
     "execution_count": 20,
     "metadata": {},
     "output_type": "execute_result"
    }
   ],
   "source": [
    "model = LogisticRegression(random_state = 42)\n",
    "model.fit(X_train, y_train)"
   ]
  },
  {
   "cell_type": "code",
   "execution_count": 21,
   "id": "6aacfe3c",
   "metadata": {
    "execution": {
     "iopub.execute_input": "2023-05-03T10:08:15.095068Z",
     "iopub.status.busy": "2023-05-03T10:08:15.094647Z",
     "iopub.status.idle": "2023-05-03T10:08:15.102025Z",
     "shell.execute_reply": "2023-05-03T10:08:15.100875Z"
    },
    "papermill": {
     "duration": 0.022373,
     "end_time": "2023-05-03T10:08:15.104341",
     "exception": false,
     "start_time": "2023-05-03T10:08:15.081968",
     "status": "completed"
    },
    "tags": []
   },
   "outputs": [
    {
     "name": "stdout",
     "output_type": "stream",
     "text": [
      "acc:0.7931713722915299\n"
     ]
    }
   ],
   "source": [
    "y_pred = model.predict(X_val)\n",
    "acc = accuracy_score(y_val, y_pred)\n",
    "print(f'acc:{acc}')"
   ]
  },
  {
   "cell_type": "markdown",
   "id": "53c15044",
   "metadata": {
    "papermill": {
     "duration": 0.015253,
     "end_time": "2023-05-03T10:08:15.133970",
     "exception": false,
     "start_time": "2023-05-03T10:08:15.118717",
     "status": "completed"
    },
    "tags": []
   },
   "source": [
    "## Accuracy increased by 1% after using PorterStemmer"
   ]
  },
  {
   "cell_type": "code",
   "execution_count": 22,
   "id": "453bfdea",
   "metadata": {
    "execution": {
     "iopub.execute_input": "2023-05-03T10:08:15.163901Z",
     "iopub.status.busy": "2023-05-03T10:08:15.163309Z",
     "iopub.status.idle": "2023-05-03T10:08:15.181101Z",
     "shell.execute_reply": "2023-05-03T10:08:15.179961Z"
    },
    "papermill": {
     "duration": 0.037753,
     "end_time": "2023-05-03T10:08:15.183958",
     "exception": false,
     "start_time": "2023-05-03T10:08:15.146205",
     "status": "completed"
    },
    "tags": []
   },
   "outputs": [],
   "source": [
    "#Predictions on test set\n",
    "y_pred_test = model.predict(X_test)\n",
    "submission = pd.DataFrame({'id': test['id'], 'target': y_pred_test})\n",
    "submission.to_csv('submission.csv', index=False)"
   ]
  },
  {
   "cell_type": "markdown",
   "id": "af98ab2a",
   "metadata": {
    "papermill": {
     "duration": 0.01279,
     "end_time": "2023-05-03T10:08:15.211830",
     "exception": false,
     "start_time": "2023-05-03T10:08:15.199040",
     "status": "completed"
    },
    "tags": []
   },
   "source": [
    "## Support Vector Classifier -  giving the Accuracy of 79.71%"
   ]
  },
  {
   "cell_type": "code",
   "execution_count": 23,
   "id": "c628023c",
   "metadata": {
    "execution": {
     "iopub.execute_input": "2023-05-03T10:08:15.237071Z",
     "iopub.status.busy": "2023-05-03T10:08:15.236152Z",
     "iopub.status.idle": "2023-05-03T10:08:15.241961Z",
     "shell.execute_reply": "2023-05-03T10:08:15.241042Z"
    },
    "papermill": {
     "duration": 0.021416,
     "end_time": "2023-05-03T10:08:15.244617",
     "exception": false,
     "start_time": "2023-05-03T10:08:15.223201",
     "status": "completed"
    },
    "tags": []
   },
   "outputs": [],
   "source": [
    "from sklearn.feature_extraction.text import CountVectorizer\n",
    "from sklearn.model_selection import train_test_split\n",
    "from sklearn.svm import SVC"
   ]
  },
  {
   "cell_type": "code",
   "execution_count": 24,
   "id": "57eeffc3",
   "metadata": {
    "_kg_hide-input": false,
    "execution": {
     "iopub.execute_input": "2023-05-03T10:08:15.269558Z",
     "iopub.status.busy": "2023-05-03T10:08:15.269073Z",
     "iopub.status.idle": "2023-05-03T10:08:19.070305Z",
     "shell.execute_reply": "2023-05-03T10:08:19.068387Z"
    },
    "papermill": {
     "duration": 3.817752,
     "end_time": "2023-05-03T10:08:19.073882",
     "exception": false,
     "start_time": "2023-05-03T10:08:15.256130",
     "status": "completed"
    },
    "tags": []
   },
   "outputs": [
    {
     "data": {
      "text/plain": [
       "SVC()"
      ]
     },
     "execution_count": 24,
     "metadata": {},
     "output_type": "execute_result"
    }
   ],
   "source": [
    "clf = SVC()\n",
    "clf.fit(X_train, y_train)"
   ]
  },
  {
   "cell_type": "code",
   "execution_count": 25,
   "id": "31b3ea02",
   "metadata": {
    "execution": {
     "iopub.execute_input": "2023-05-03T10:08:19.100443Z",
     "iopub.status.busy": "2023-05-03T10:08:19.099731Z",
     "iopub.status.idle": "2023-05-03T10:08:19.883245Z",
     "shell.execute_reply": "2023-05-03T10:08:19.881684Z"
    },
    "papermill": {
     "duration": 0.79973,
     "end_time": "2023-05-03T10:08:19.885853",
     "exception": false,
     "start_time": "2023-05-03T10:08:19.086123",
     "status": "completed"
    },
    "tags": []
   },
   "outputs": [
    {
     "name": "stdout",
     "output_type": "stream",
     "text": [
      "acc:0.7931713722915299\n"
     ]
    }
   ],
   "source": [
    "y_pred = clf.predict(X_val)\n",
    "acc = accuracy_score(y_val, y_pred)\n",
    "print(f'acc:{acc}')"
   ]
  },
  {
   "cell_type": "code",
   "execution_count": 26,
   "id": "eae9767f",
   "metadata": {
    "_kg_hide-input": true,
    "execution": {
     "iopub.execute_input": "2023-05-03T10:08:19.911903Z",
     "iopub.status.busy": "2023-05-03T10:08:19.911465Z",
     "iopub.status.idle": "2023-05-03T10:08:21.099782Z",
     "shell.execute_reply": "2023-05-03T10:08:21.098613Z"
    },
    "papermill": {
     "duration": 1.204659,
     "end_time": "2023-05-03T10:08:21.102716",
     "exception": false,
     "start_time": "2023-05-03T10:08:19.898057",
     "status": "completed"
    },
    "tags": []
   },
   "outputs": [],
   "source": [
    "#Predictions on test set\n",
    "y_pred_test = clf.predict(X_test)\n",
    "submission = pd.DataFrame({'id': test['id'], 'target': y_pred_test})\n",
    "submission.to_csv('submission_svc.csv', index=False)"
   ]
  },
  {
   "cell_type": "markdown",
   "id": "0d7686f9",
   "metadata": {
    "papermill": {
     "duration": 0.011637,
     "end_time": "2023-05-03T10:08:21.125821",
     "exception": false,
     "start_time": "2023-05-03T10:08:21.114184",
     "status": "completed"
    },
    "tags": []
   },
   "source": [
    "## XGboost -  Accuracy of 78.26%"
   ]
  },
  {
   "cell_type": "code",
   "execution_count": 27,
   "id": "2e5572b0",
   "metadata": {
    "execution": {
     "iopub.execute_input": "2023-05-03T10:08:21.151611Z",
     "iopub.status.busy": "2023-05-03T10:08:21.151148Z",
     "iopub.status.idle": "2023-05-03T10:08:22.681212Z",
     "shell.execute_reply": "2023-05-03T10:08:22.679765Z"
    },
    "papermill": {
     "duration": 1.547588,
     "end_time": "2023-05-03T10:08:22.684806",
     "exception": false,
     "start_time": "2023-05-03T10:08:21.137218",
     "status": "completed"
    },
    "tags": []
   },
   "outputs": [
    {
     "name": "stdout",
     "output_type": "stream",
     "text": [
      "acc:0.7688772160210111\n"
     ]
    }
   ],
   "source": [
    "import xgboost as xgb\n",
    "from sklearn.metrics import accuracy_score\n",
    "\n",
    "xgb_clf = xgb.XGBClassifier(learning_rate=1)\n",
    "xgb_clf.fit(X_train, y_train)\n",
    "y_pred = xgb_clf.predict(X_val)\n",
    "acc = accuracy_score(y_val, y_pred)\n",
    "print(f'acc:{acc}')"
   ]
  },
  {
   "cell_type": "code",
   "execution_count": 28,
   "id": "a9bd6029",
   "metadata": {
    "execution": {
     "iopub.execute_input": "2023-05-03T10:08:22.711763Z",
     "iopub.status.busy": "2023-05-03T10:08:22.711280Z",
     "iopub.status.idle": "2023-05-03T10:08:22.720106Z",
     "shell.execute_reply": "2023-05-03T10:08:22.718803Z"
    },
    "papermill": {
     "duration": 0.025032,
     "end_time": "2023-05-03T10:08:22.722684",
     "exception": false,
     "start_time": "2023-05-03T10:08:22.697652",
     "status": "completed"
    },
    "tags": []
   },
   "outputs": [
    {
     "data": {
      "text/plain": [
       "array([0, 0, 0, ..., 1, 1, 0])"
      ]
     },
     "execution_count": 28,
     "metadata": {},
     "output_type": "execute_result"
    }
   ],
   "source": [
    "y_pred"
   ]
  },
  {
   "cell_type": "markdown",
   "id": "6f75f18b",
   "metadata": {
    "papermill": {
     "duration": 0.011294,
     "end_time": "2023-05-03T10:08:22.745803",
     "exception": false,
     "start_time": "2023-05-03T10:08:22.734509",
     "status": "completed"
    },
    "tags": []
   },
   "source": [
    "## Hence we can compare and see that Support Vector Classifier works best for the given Dataset."
   ]
  }
 ],
 "metadata": {
  "kernelspec": {
   "display_name": "Python 3",
   "language": "python",
   "name": "python3"
  },
  "language_info": {
   "codemirror_mode": {
    "name": "ipython",
    "version": 3
   },
   "file_extension": ".py",
   "mimetype": "text/x-python",
   "name": "python",
   "nbconvert_exporter": "python",
   "pygments_lexer": "ipython3",
   "version": "3.7.12"
  },
  "papermill": {
   "default_parameters": {},
   "duration": 42.523077,
   "end_time": "2023-05-03T10:08:25.975657",
   "environment_variables": {},
   "exception": null,
   "input_path": "__notebook__.ipynb",
   "output_path": "__notebook__.ipynb",
   "parameters": {},
   "start_time": "2023-05-03T10:07:43.452580",
   "version": "2.4.0"
  }
 },
 "nbformat": 4,
 "nbformat_minor": 5
}
